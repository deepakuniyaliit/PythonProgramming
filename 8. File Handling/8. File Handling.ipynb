{
 "cells": [
  {
   "cell_type": "code",
   "execution_count": 1,
   "metadata": {},
   "outputs": [
    {
     "name": "stdout",
     "output_type": "stream",
     "text": [
      "   roll     name\n",
      "0     1   deepak\n",
      "1     2  sandeep\n",
      "2     3    vipin\n"
     ]
    }
   ],
   "source": [
    "'''\n",
    "Basic File Formats - Text, CSV and JSON\n",
    "\n",
    "1. Read a file\n",
    "2. Write on a file\n",
    "3. Append to a file\n",
    "4. Copy text from one file to another file\n",
    "5. Read text from two files and write to third file\n",
    "6. Swap the content of two files\n",
    "'''\n",
    "import pandas as pd\n",
    "df = pd.read_csv('data.csv')\n",
    "print(df)"
   ]
  },
  {
   "cell_type": "code",
   "execution_count": 2,
   "metadata": {},
   "outputs": [
    {
     "data": {
      "text/plain": [
       "'python\\njavascript\\njava\\nc\\nc++'"
      ]
     },
     "execution_count": 2,
     "metadata": {},
     "output_type": "execute_result"
    }
   ],
   "source": [
    "f1 = open('input1.txt', 'r')\n",
    "data1 = f1.read()\n",
    "data1"
   ]
  },
  {
   "cell_type": "code",
   "execution_count": 3,
   "metadata": {},
   "outputs": [
    {
     "data": {
      "text/plain": [
       "[]"
      ]
     },
     "execution_count": 3,
     "metadata": {},
     "output_type": "execute_result"
    }
   ],
   "source": [
    "data2 = f1.readlines()\n",
    "data2"
   ]
  },
  {
   "cell_type": "code",
   "execution_count": 5,
   "metadata": {},
   "outputs": [
    {
     "data": {
      "text/plain": [
       "False"
      ]
     },
     "execution_count": 5,
     "metadata": {},
     "output_type": "execute_result"
    }
   ],
   "source": [
    "f1.closed"
   ]
  },
  {
   "cell_type": "code",
   "execution_count": 6,
   "metadata": {},
   "outputs": [],
   "source": [
    "f1.close()"
   ]
  },
  {
   "cell_type": "code",
   "execution_count": 7,
   "metadata": {},
   "outputs": [
    {
     "data": {
      "text/plain": [
       "True"
      ]
     },
     "execution_count": 7,
     "metadata": {},
     "output_type": "execute_result"
    }
   ],
   "source": [
    "f1.closed"
   ]
  },
  {
   "cell_type": "code",
   "execution_count": 9,
   "metadata": {},
   "outputs": [
    {
     "data": {
      "text/plain": [
       "['python\\n', 'javascript\\n', 'java\\n', 'c\\n', 'c++']"
      ]
     },
     "execution_count": 9,
     "metadata": {},
     "output_type": "execute_result"
    }
   ],
   "source": [
    "f2 = open('input1.txt', 'r')\n",
    "data2 = f2.readlines()\n",
    "data2"
   ]
  },
  {
   "cell_type": "code",
   "execution_count": 11,
   "metadata": {},
   "outputs": [
    {
     "name": "stdout",
     "output_type": "stream",
     "text": [
      "python\n",
      "javascript\n",
      "java\n",
      "c\n",
      "c+\n"
     ]
    }
   ],
   "source": [
    "for lang in data2:\n",
    "    print(lang[:-1])"
   ]
  },
  {
   "cell_type": "code",
   "execution_count": 12,
   "metadata": {},
   "outputs": [],
   "source": [
    "f2.close()"
   ]
  },
  {
   "cell_type": "code",
   "execution_count": 13,
   "metadata": {},
   "outputs": [
    {
     "name": "stdout",
     "output_type": "stream",
     "text": [
      "python\n",
      "javascript\n",
      "java\n",
      "c\n",
      "c++\n"
     ]
    }
   ],
   "source": [
    "with open('input1.txt', 'r') as f3:\n",
    "    data3 = f3.read()\n",
    "    print(data3)"
   ]
  },
  {
   "cell_type": "code",
   "execution_count": 14,
   "metadata": {},
   "outputs": [
    {
     "name": "stdout",
     "output_type": "stream",
     "text": [
      "python\n",
      "javascript\n",
      "java\n",
      "c\n",
      "c+\n"
     ]
    }
   ],
   "source": [
    "with open('input1.txt', 'r') as f4:\n",
    "    data4 = f4.readlines()\n",
    "    for lang in data4:\n",
    "        print(lang[:-1])"
   ]
  },
  {
   "cell_type": "code",
   "execution_count": 15,
   "metadata": {},
   "outputs": [],
   "source": [
    "with open('input1.txt', 'r') as f5, open('output.txt', 'w') as f6:\n",
    "    f6.write(f5.read())"
   ]
  },
  {
   "cell_type": "code",
   "execution_count": 16,
   "metadata": {},
   "outputs": [],
   "source": [
    "with open('input2.txt', 'r') as f7, open('output.txt', 'a') as f8:\n",
    "    f8.write(f7.read())"
   ]
  },
  {
   "cell_type": "code",
   "execution_count": 17,
   "metadata": {},
   "outputs": [],
   "source": [
    "with open('input1.txt', 'r') as f9, open('input2.txt', 'r') as f10, open('output.txt', 'w') as f11:\n",
    "    f11.write(f9.read() + '\\n' + f10.read())"
   ]
  },
  {
   "cell_type": "code",
   "execution_count": 18,
   "metadata": {},
   "outputs": [],
   "source": [
    "'''\n",
    "This code doesn't work as expected.\n",
    "'''\n",
    "with open('input1.txt', 'r+') as f12, open('input2.txt', 'r+') as f13:\n",
    "    content1 = f12.read()\n",
    "    content2 = f13.read()\n",
    "    f12.write(content2)\n",
    "    f13.write(content1)"
   ]
  },
  {
   "cell_type": "code",
   "execution_count": 20,
   "metadata": {},
   "outputs": [
    {
     "name": "stdout",
     "output_type": "stream",
     "text": [
      "python\n",
      "javascript\n",
      "java\n",
      "c\n",
      "c++\n",
      "---------------\n",
      "kotlin\n",
      "rust\n",
      "swift\n",
      "Go\n",
      "PHP\n"
     ]
    }
   ],
   "source": [
    "content1 = content2 = ''\n",
    "with open('input1.txt', 'r') as f12, open('input2.txt', 'r') as f13:\n",
    "    content1 = f12.read()\n",
    "    content2 = f13.read()\n",
    "print(content1)\n",
    "print('---------------')\n",
    "print(content2)"
   ]
  },
  {
   "cell_type": "code",
   "execution_count": 21,
   "metadata": {},
   "outputs": [
    {
     "name": "stdout",
     "output_type": "stream",
     "text": [
      "python\n",
      "javascript\n",
      "java\n",
      "c\n",
      "c++\n",
      "---------------\n",
      "kotlin\n",
      "rust\n",
      "swift\n",
      "Go\n",
      "PHP\n"
     ]
    }
   ],
   "source": [
    "with open('input1.txt', 'w') as f14, open('input2.txt', 'w') as f15:\n",
    "    f14.write(content2)\n",
    "    f15.write(content1)"
   ]
  },
  {
   "cell_type": "code",
   "execution_count": 22,
   "metadata": {},
   "outputs": [
    {
     "name": "stdout",
     "output_type": "stream",
     "text": [
      "kotlin\n",
      "rust\n",
      "swift\n",
      "Go\n",
      "PHP\n",
      "---------------\n",
      "python\n",
      "javascript\n",
      "java\n",
      "c\n",
      "c++\n"
     ]
    }
   ],
   "source": [
    "content1 = content2 = ''\n",
    "with open('input1.txt', 'r') as f12, open('input2.txt', 'r') as f13:\n",
    "    content1 = f12.read()\n",
    "    content2 = f13.read()\n",
    "print(content1)\n",
    "print('---------------')\n",
    "print(content2)"
   ]
  },
  {
   "cell_type": "code",
   "execution_count": 23,
   "metadata": {},
   "outputs": [
    {
     "name": "stdout",
     "output_type": "stream",
     "text": [
      "kotlin\n",
      "rust\n",
      "swift\n",
      "Go\n",
      "PHP\n",
      "---------------\n",
      "python\n",
      "javascript\n",
      "java\n",
      "c\n",
      "c++\n",
      "---------------\n",
      "python\n",
      "javascript\n",
      "java\n",
      "c\n",
      "c++\n",
      "---------------\n",
      "kotlin\n",
      "rust\n",
      "swift\n",
      "Go\n",
      "PHP\n",
      "---------------\n"
     ]
    }
   ],
   "source": [
    "content1 = content2 = ''\n",
    "\n",
    "with open('input1.txt', 'r') as f12, open('input2.txt', 'r') as f13:\n",
    "    content1 = f12.read()\n",
    "    content2 = f13.read()\n",
    "\n",
    "print(content1)\n",
    "print('---------------')\n",
    "print(content2) \n",
    "print('---------------')\n",
    "\n",
    "with open('input1.txt', 'w') as f14, open('input2.txt', 'w') as f15:\n",
    "    f14.write(content2)\n",
    "    f15.write(content1)\n",
    "\n",
    "with open('input1.txt', 'r') as f12, open('input2.txt', 'r') as f13:\n",
    "    content1 = f12.read()\n",
    "    content2 = f13.read()\n",
    "\n",
    "print(content1)\n",
    "print('---------------')\n",
    "print(content2) \n",
    "print('---------------')"
   ]
  },
  {
   "cell_type": "code",
   "execution_count": null,
   "metadata": {},
   "outputs": [],
   "source": []
  }
 ],
 "metadata": {
  "kernelspec": {
   "display_name": "Python 3",
   "language": "python",
   "name": "python3"
  },
  "language_info": {
   "codemirror_mode": {
    "name": "ipython",
    "version": 3
   },
   "file_extension": ".py",
   "mimetype": "text/x-python",
   "name": "python",
   "nbconvert_exporter": "python",
   "pygments_lexer": "ipython3",
   "version": "3.8.5"
  }
 },
 "nbformat": 4,
 "nbformat_minor": 4
}
