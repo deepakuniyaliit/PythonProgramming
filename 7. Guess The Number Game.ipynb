{
 "cells": [
  {
   "cell_type": "code",
   "execution_count": 1,
   "metadata": {},
   "outputs": [
    {
     "name": "stdout",
     "output_type": "stream",
     "text": [
      "Enter Lower Limit10\n",
      "Enter Higher Limit20\n"
     ]
    }
   ],
   "source": [
    "'''\n",
    "Write a Python program which does following things -\n",
    "\n",
    "    1. Asks user to enter a range i.e. value of Low and High.\n",
    "    2. Randomly assigns a number in the given range [Low - High].\n",
    "    3. Asks user to guess a number in the given range.\n",
    "    4. Checks if number entered by user is correct guess or not.\n",
    "    5. Provides a hint to user whether number entered by him is lower or higher than actual number.\n",
    "    6. Keeps asking user for number until he guesses the correct number or accepts his defeat\n",
    "    \n",
    "'''\n",
    "import random\n",
    "low, high = int(input('Enter Lower Limit')), int(input('Enter Higher Limit'))"
   ]
  },
  {
   "cell_type": "code",
   "execution_count": 2,
   "metadata": {},
   "outputs": [
    {
     "data": {
      "text/plain": [
       "(10, 20)"
      ]
     },
     "execution_count": 2,
     "metadata": {},
     "output_type": "execute_result"
    }
   ],
   "source": [
    "low, high"
   ]
  },
  {
   "cell_type": "code",
   "execution_count": 3,
   "metadata": {},
   "outputs": [],
   "source": [
    "secret = low + int(random.random()*(high-low+1))"
   ]
  },
  {
   "cell_type": "code",
   "execution_count": 4,
   "metadata": {},
   "outputs": [
    {
     "data": {
      "text/plain": [
       "15"
      ]
     },
     "execution_count": 4,
     "metadata": {},
     "output_type": "execute_result"
    }
   ],
   "source": [
    "secret"
   ]
  },
  {
   "cell_type": "code",
   "execution_count": 5,
   "metadata": {},
   "outputs": [
    {
     "name": "stdout",
     "output_type": "stream",
     "text": [
      "14\n"
     ]
    }
   ],
   "source": [
    "print(low + int(random.random()*(high-low+1)))"
   ]
  },
  {
   "cell_type": "code",
   "execution_count": 6,
   "metadata": {},
   "outputs": [
    {
     "name": "stdout",
     "output_type": "stream",
     "text": [
      "14\n"
     ]
    }
   ],
   "source": [
    "print(low + int(random.random()*(high-low+1)))"
   ]
  },
  {
   "cell_type": "code",
   "execution_count": 7,
   "metadata": {},
   "outputs": [
    {
     "name": "stdout",
     "output_type": "stream",
     "text": [
      "11\n"
     ]
    }
   ],
   "source": [
    "print(low + int(random.random()*(high-low+1)))"
   ]
  },
  {
   "cell_type": "code",
   "execution_count": 8,
   "metadata": {},
   "outputs": [
    {
     "name": "stdout",
     "output_type": "stream",
     "text": [
      "18\n"
     ]
    }
   ],
   "source": [
    "print(low + int(random.random()*(high-low+1)))"
   ]
  },
  {
   "cell_type": "code",
   "execution_count": 9,
   "metadata": {},
   "outputs": [],
   "source": [
    "chances = 10"
   ]
  },
  {
   "cell_type": "code",
   "execution_count": 10,
   "metadata": {},
   "outputs": [
    {
     "name": "stdout",
     "output_type": "stream",
     "text": [
      "Enter Lower Limit10\n",
      "Enter Higher Limit20\n",
      "Guess the Secret Number - 15\n",
      "Secret number is less than guessed number...\n",
      "Guess the Secret Number - 13\n",
      "Secret number is greater than guessed number...\n",
      "Guess the Secret Number - 14\n",
      "Congratulations...You Win The Game!!!\n"
     ]
    }
   ],
   "source": [
    "import random\n",
    "low, high = int(input('Enter Lower Limit')), int(input('Enter Higher Limit'))\n",
    "secret = low + int(random.random()*(high-low+1))\n",
    "chances = 3\n",
    "win = False\n",
    "\n",
    "while chances:\n",
    "    guess = int(input('Guess the Secret Number - '))\n",
    "    chances = chances - 1\n",
    "    if guess == secret:\n",
    "        print('Congratulations...You Win The Game!!!')\n",
    "        win = True\n",
    "        break\n",
    "    elif guess > secret:\n",
    "        print('Secret number is less than guessed number...')\n",
    "    else:\n",
    "        print('Secret number is greater than guessed number...')\n",
    "\n",
    "if not win:\n",
    "    print('You Lost The Game!!')"
   ]
  },
  {
   "cell_type": "code",
   "execution_count": 11,
   "metadata": {},
   "outputs": [
    {
     "name": "stdout",
     "output_type": "stream",
     "text": [
      "Enter Lower Limit100\n",
      "Enter Higher Limit200\n",
      "Guess the Secret Number - 150\n",
      "Secret number is less than guessed number...\n",
      "Guess the Secret Number - 130\n",
      "Secret number is less than guessed number...\n",
      "Guess the Secret Number - 120\n",
      "Secret number is less than guessed number...\n",
      "You Lost The Game!!\n"
     ]
    }
   ],
   "source": [
    "import random\n",
    "low, high = int(input('Enter Lower Limit')), int(input('Enter Higher Limit'))\n",
    "secret = low + int(random.random()*(high-low+1))\n",
    "chances = 3\n",
    "win = False\n",
    "\n",
    "while chances:\n",
    "    guess = int(input('Guess the Secret Number - '))\n",
    "    chances = chances - 1\n",
    "    if guess == secret:\n",
    "        print('Congratulations...You Win The Game!!!')\n",
    "        win = True\n",
    "        break\n",
    "    elif guess > secret:\n",
    "        print('Secret number is less than guessed number...')\n",
    "    else:\n",
    "        print('Secret number is greater than guessed number...')\n",
    "\n",
    "if not win:\n",
    "    print('You Lost The Game!!')"
   ]
  },
  {
   "cell_type": "code",
   "execution_count": 12,
   "metadata": {},
   "outputs": [
    {
     "data": {
      "text/plain": [
       "118"
      ]
     },
     "execution_count": 12,
     "metadata": {},
     "output_type": "execute_result"
    }
   ],
   "source": [
    "secret"
   ]
  },
  {
   "cell_type": "code",
   "execution_count": null,
   "metadata": {},
   "outputs": [],
   "source": []
  }
 ],
 "metadata": {
  "kernelspec": {
   "display_name": "Python 3",
   "language": "python",
   "name": "python3"
  },
  "language_info": {
   "codemirror_mode": {
    "name": "ipython",
    "version": 3
   },
   "file_extension": ".py",
   "mimetype": "text/x-python",
   "name": "python",
   "nbconvert_exporter": "python",
   "pygments_lexer": "ipython3",
   "version": "3.6.9"
  }
 },
 "nbformat": 4,
 "nbformat_minor": 2
}
